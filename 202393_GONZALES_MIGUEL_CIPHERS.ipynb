{
 "cells": [
  {
   "cell_type": "code",
   "execution_count": 11,
   "id": "ba803870",
   "metadata": {},
   "outputs": [
    {
     "data": {
      "text/plain": [
       "'DWWDFN DW GDZQ'"
      ]
     },
     "execution_count": 11,
     "metadata": {},
     "output_type": "execute_result"
    }
   ],
   "source": [
    "###Problem 1\n",
    "def problem_1 (message,shift):\n",
    "    output = \"\"\n",
    "    for i in message:\n",
    "        unicode = ord(i)\n",
    "        while unicode+shift> 90:\n",
    "            unicode -= 26\n",
    "        if unicode+shift >=65 and unicode+shift<=90:\n",
    "            output+= chr(unicode+shift)\n",
    "        else:\n",
    "            output += \" \"\n",
    "    return output\n",
    "problem_1(\"ATTACK AT DAWN\",3)\n",
    "\n",
    "    "
   ]
  },
  {
   "cell_type": "code",
   "execution_count": 10,
   "id": "0c65592a",
   "metadata": {},
   "outputs": [
    {
     "data": {
      "text/plain": [
       "'IMNNA_FTAOIGROE '"
      ]
     },
     "execution_count": 10,
     "metadata": {},
     "output_type": "execute_result"
    }
   ],
   "source": [
    "### Problem 2\n",
    "def problem_2 (message, shift):\n",
    "    output = \"\"\n",
    "    while len (message) % shift != 0:\n",
    "        message += \"_\"\n",
    "    for i in range (0,len(message)):\n",
    "        output += message[(i // shift) + (len(message) // shift) * (i % shift)]\n",
    "    else:\n",
    "        output += \" \"\n",
    "    return output   \n",
    "\n",
    "problem_2 (\"INFORMATION_AGE\", 3)\n",
    "\n",
    "        \n"
   ]
  },
  {
   "cell_type": "code",
   "execution_count": 8,
   "id": "a888c583",
   "metadata": {},
   "outputs": [
    {
     "data": {
      "text/plain": [
       "'WC WIQCEEO'"
      ]
     },
     "execution_count": 8,
     "metadata": {},
     "output_type": "execute_result"
    }
   ],
   "source": [
    "### Problem 3\n",
    "def problem_1 (message,shift):\n",
    "    output = \"\"\n",
    "    for i in message:\n",
    "        unicode = ord(i)\n",
    "        while unicode+shift> 90:\n",
    "            unicode -= 26\n",
    "        if unicode+shift >=65 and unicode+shift<=90:\n",
    "            output+= chr(unicode+shift)\n",
    "        else:\n",
    "            output += \" \"\n",
    "    return output\n",
    "\n",
    "\n",
    "def problem_3 (message, key):\n",
    "    output2 = \"\"\n",
    "    extended_key= key\n",
    "   \n",
    "    while len (extended_key)!= len(message) :\n",
    "        extended_key += extended_key[len(extended_key)-len(key)]\n",
    "    for i in range (0,len(extended_key)):\n",
    "        if message [i] != \" \":\n",
    "            output2 += problem_1(message[i],ord(extended_key[i])+65)\n",
    "        else:\n",
    "            output2 += \" \"\n",
    "    return output2\n",
    "\n",
    "problem_3(\"MY MESSAGE\",\"KEY\")\n",
    "        \n",
    "        \n",
    "    "
   ]
  },
  {
   "cell_type": "code",
   "execution_count": 9,
   "id": "dad8338f",
   "metadata": {},
   "outputs": [
    {
     "data": {
      "text/plain": [
       "'INFORMATION_AGE'"
      ]
     },
     "execution_count": 9,
     "metadata": {},
     "output_type": "execute_result"
    }
   ],
   "source": [
    "### Problem 4\n",
    "def problem_4(message,shift):\n",
    "    new_message= [None]* len(message)\n",
    "    decoded = \"\" \n",
    "    for i in range (0,len(message)):\n",
    "        new_message [(i//shift) + (len (message)// shift)*(i % shift)]=message[i]\n",
    "    for items in range (0, len (new_message)):\n",
    "        decoded += new_message[items]\n",
    "    return decoded\n",
    "\n",
    "problem_4 (\"IMNNA_FTAOIGROE\",3)\n",
    "\n",
    "        \n",
    "    \n",
    "\n"
   ]
  },
  {
   "cell_type": "code",
   "execution_count": null,
   "id": "d14601a2",
   "metadata": {},
   "outputs": [],
   "source": []
  }
 ],
 "metadata": {
  "kernelspec": {
   "display_name": "Python 3",
   "language": "python",
   "name": "python3"
  },
  "language_info": {
   "codemirror_mode": {
    "name": "ipython",
    "version": 3
   },
   "file_extension": ".py",
   "mimetype": "text/x-python",
   "name": "python",
   "nbconvert_exporter": "python",
   "pygments_lexer": "ipython3",
   "version": "3.8.8"
  }
 },
 "nbformat": 4,
 "nbformat_minor": 5
}
