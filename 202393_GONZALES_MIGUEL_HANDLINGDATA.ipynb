{
 "cells": [
  {
   "cell_type": "code",
   "execution_count": 1,
   "id": "681efe3e",
   "metadata": {},
   "outputs": [],
   "source": [
    "\n",
    "    social_graph ={\n",
    "        \"@bongolpoc\":{\"first_name\":\"Joselito\",\n",
    "                      \"last_name\":\"Olpoc\",\n",
    "                      \"following\":[\n",
    "                      ]\n",
    "        },\n",
    "        \"@joaquin\":  {\"first_name\":\"Joaquin\",\n",
    "                      \"last_name\":\"Gonzales\",\n",
    "                      \"following\":[\n",
    "                          \"@chums\",\"@jobenilagan\"\n",
    "                      ]\n",
    "        },\n",
    "        \"@chums\" : {\"first_name\":\"Matthew\",\n",
    "                    \"last_name\":\"Uy\",\n",
    "                    \"following\":[\n",
    "                        \"@bongolpoc\",\"@miketan\",\"@rudyang\",\"@joeilagan\"\n",
    "                    ]\n",
    "        },\n",
    "        \"@jobenilagan\":{\"first_name\":\"Joben\",\n",
    "                       \"last_name\":\"Ilagan\",\n",
    "                       \"following\":[\n",
    "                        \"@eeebeee\",\"@joeilagan\",\"@chums\",\"@joaquin\"\n",
    "                       ]\n",
    "        },\n",
    "        \"@joeilagan\":{\"first_name\":\"Joe\",\n",
    "                      \"last_name\":\"Ilagan\",\n",
    "                      \"following\":[\n",
    "                        \"@eeebeee\",\"@jobenilagan\",\"@chums\"\n",
    "                      ]\n",
    "        },\n",
    "        \"@eeebeee\":  {\"first_name\":\"Elizabeth\",\n",
    "                      \"last_name\":\"Ilagan\",\n",
    "                      \"following\":[\n",
    "                        \"@jobenilagan\",\"@joeilagan\"\n",
    "                      ]\n",
    "        },\n",
    "}"
   ]
  },
  {
   "cell_type": "code",
   "execution_count": 2,
   "id": "3a7a94c9",
   "metadata": {},
   "outputs": [
    {
     "data": {
      "text/plain": [
       "'friends'"
      ]
     },
     "execution_count": 2,
     "metadata": {},
     "output_type": "execute_result"
    }
   ],
   "source": [
    "### Problem 1: Social Media Relationships \n",
    "def relationship_status(from_member,to_member):\n",
    "\n",
    "    \n",
    "    if to_member in social_graph[from_member][\"following\"] and from_member in social_graph[to_member][\"following\"]:\n",
    "        return \"friends\"\n",
    "    elif to_member in social_graph[from_member][\"following\"]:\n",
    "        return \"follower\"\n",
    "    elif from_member in social_graph[to_member][\"following\"]:\n",
    "        return \"followed by\"\n",
    "    else:\n",
    "        return \"None\"\n",
    "    \n",
    "    \n",
    "    \n",
    "relationship_status(\"@joeilagan\",\"@eeebeee\")  \n",
    "\n",
    "\n"
   ]
  },
  {
   "cell_type": "code",
   "execution_count": 3,
   "id": "69c01631",
   "metadata": {},
   "outputs": [
    {
     "name": "stdout",
     "output_type": "stream",
     "text": [
      "{'@bongolpoc': {'first_name': 'Joselito', 'last_name': 'Olpoc', 'following': []}, '@joaquin': {'first_name': 'Joaquin', 'last_name': 'Gonzales', 'following': ['@chums', '@jobenilagan']}, '@chums': {'first_name': 'Matthew', 'last_name': 'Uy', 'following': ['@bongolpoc', '@miketan', '@rudyang', '@joeilagan']}, '@jobenilagan': {'first_name': 'Joben', 'last_name': 'Ilagan', 'following': ['@eeebeee', '@joeilagan', '@chums', '@joaquin']}, '@joeilagan': {'first_name': 'Joe', 'last_name': 'Ilagan', 'following': ['@eeebeee', '@jobenilagan', '@chums']}, '@eeebeee': {'first_name': 'Elizabeth', 'last_name': 'Ilagan', 'following': ['@jobenilagan', '@joeilagan']}}\n"
     ]
    }
   ],
   "source": [
    "print(social_graph)"
   ]
  },
  {
   "cell_type": "code",
   "execution_count": 4,
   "id": "e99e2974",
   "metadata": {},
   "outputs": [],
   "source": [
    "board1 = [\n",
    "['X','X','O'],\n",
    "['O','X','O'],\n",
    "['O','','X'],\n",
    "]\n",
    "\n",
    "board2 = [\n",
    "['X','X','O'],\n",
    "['O','X','O'],\n",
    "['','O','X'],\n",
    "]\n",
    "\n",
    "board3 = [\n",
    "['O','X','O'],\n",
    "['','O','X'],\n",
    "['X','X','O'],\n",
    "]\n",
    "\n",
    "board4 = [\n",
    "['X','X','X'],\n",
    "['O','X','O'],\n",
    "['O','','O'],\n",
    "]\n",
    "\n",
    "board5 = [\n",
    "['X','X','O'],\n",
    "['O','X','O'],\n",
    "['X','','O'],\n",
    "]\n",
    "\n",
    "board6 = [\n",
    "['X','X','O'],\n",
    "['O','X','O'],\n",
    "['X','',''],\n",
    "]"
   ]
  },
  {
   "cell_type": "code",
   "execution_count": 5,
   "id": "b58e52b1",
   "metadata": {},
   "outputs": [
    {
     "data": {
      "text/plain": [
       "'None'"
      ]
     },
     "execution_count": 5,
     "metadata": {},
     "output_type": "execute_result"
    }
   ],
   "source": [
    "### Problem 2: Tic Tac Toe \n",
    "\n",
    "def tic_tac_toe(board):\n",
    "    if all(\"X\" in i for i in board)== \"True\":#Horizontal\n",
    "        return \"X\"\n",
    "    if all(\"O\" in i for i in board)== \"True\":\n",
    "        return \"O\"\n",
    "    if all(\"X\" in board [i][i] for i in range(len(board)))== \"True\": #diagonal upper-left to lower-right\n",
    "        return \"X\"\n",
    "    if all(\"O\" in board [i][i] for i in range(len(board)))== \"True\":\n",
    "        return \"O\"\n",
    "    if all(\"X\" in board [3-1-i][i] for i in range (len(board)))== \"True\": #diagonal lower-left to upper-right\n",
    "        return \"X\"\n",
    "    if all(\"O\" in board [3-1-i][i] for i in range (len(board)))== \"True\":\n",
    "        return \"O\"\n",
    "    if all (\"X\" in i for i in zip(*board)) == \"True\": #Vertical \n",
    "        return \"X\"\n",
    "    if all (\"O\" in i for i in zip(*board)) == \"True\":\n",
    "        return \"O\"\n",
    "    else:\n",
    "        return\"None\" \n",
    "    \n",
    "        \n",
    "tic_tac_toe(board6)\n",
    "    "
   ]
  },
  {
   "cell_type": "code",
   "execution_count": 6,
   "id": "2a595957",
   "metadata": {},
   "outputs": [],
   "source": [
    "legs = {\n",
    "     (\"upd\",\"admu\"):{\n",
    "         \"travel_time_mins\":10\n",
    "     },\n",
    "     (\"admu\",\"dlsu\"):{\n",
    "         \"travel_time_mins\":35\n",
    "     },\n",
    "     (\"dlsu\",\"upd\"):{\n",
    "         \"travel_time_mins\":55\n",
    "     }\n",
    "}"
   ]
  },
  {
   "cell_type": "code",
   "execution_count": 20,
   "id": "9c8f3b0a",
   "metadata": {},
   "outputs": [
    {
     "data": {
      "text/plain": [
       "90"
      ]
     },
     "execution_count": 20,
     "metadata": {},
     "output_type": "execute_result"
    }
   ],
   "source": [
    "### Problem 3: Routing\n",
    "\n",
    "def eta(source,destination):\n",
    "    if source==destination:\n",
    "        return 100\n",
    "    elif (source, destination) in legs:\n",
    "        return legs[source,destination][\"travel_time_mins\"]\n",
    "    else:\n",
    "        return 100 - legs[destination,source][\"travel_time_mins\"]\n",
    "    \n",
    "eta(\"admu\",\"upd\")"
   ]
  },
  {
   "cell_type": "code",
   "execution_count": null,
   "id": "641ab30d",
   "metadata": {},
   "outputs": [],
   "source": []
  }
 ],
 "metadata": {
  "kernelspec": {
   "display_name": "Python 3",
   "language": "python",
   "name": "python3"
  },
  "language_info": {
   "codemirror_mode": {
    "name": "ipython",
    "version": 3
   },
   "file_extension": ".py",
   "mimetype": "text/x-python",
   "name": "python",
   "nbconvert_exporter": "python",
   "pygments_lexer": "ipython3",
   "version": "3.8.8"
  }
 },
 "nbformat": 4,
 "nbformat_minor": 5
}
