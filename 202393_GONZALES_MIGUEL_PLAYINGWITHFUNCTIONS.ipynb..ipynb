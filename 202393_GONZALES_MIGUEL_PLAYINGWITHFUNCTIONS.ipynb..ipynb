{
 "cells": [
  {
   "cell_type": "code",
   "execution_count": 1,
   "id": "832ce530",
   "metadata": {},
   "outputs": [
    {
     "data": {
      "text/plain": [
       "120"
      ]
     },
     "execution_count": 1,
     "metadata": {},
     "output_type": "execute_result"
    }
   ],
   "source": [
    "###PROBLEM1\n",
    "def problem_1 (number):\n",
    "    factorial = 1\n",
    "    if number >= 1:\n",
    "        for i in range (1,number+1):\n",
    "           factorial = factorial * i\n",
    "    return(factorial)\n",
    "    \n",
    "problem_1(5)"
   ]
  },
  {
   "cell_type": "code",
   "execution_count": 2,
   "id": "10f6f79b",
   "metadata": {},
   "outputs": [
    {
     "name": "stdout",
     "output_type": "stream",
     "text": [
      "Please Enter the passphrase:Migs\n",
      "1\n"
     ]
    }
   ],
   "source": [
    "###PROBLEM2\n",
    "def problem_2 (passphrase):\n",
    "    counter=1\n",
    "    while True:\n",
    "        user_input=input(\"Please Enter the passphrase:\")\n",
    "        if user_input==passphrase:\n",
    "            print(int(1))\n",
    "            break\n",
    "        elif user_input!=passphrase:\n",
    "            while counter<3:\n",
    "                print(\"Please try again\")\n",
    "                user_input=input(\"Please Enter the passphrase:\")\n",
    "                counter=counter+1\n",
    "                 \n",
    "            else:\n",
    "                return(int(0))\n",
    "                break\n",
    "problem_2(\"Migs\")\n",
    "                "
   ]
  },
  {
   "cell_type": "code",
   "execution_count": 8,
   "id": "10f9c4da",
   "metadata": {},
   "outputs": [
    {
     "data": {
      "text/plain": [
       "32.0"
      ]
     },
     "execution_count": 8,
     "metadata": {},
     "output_type": "execute_result"
    }
   ],
   "source": [
    "###PROBLEM3\n",
    "\n",
    "def problem_3(temp,original_format,new_format):\n",
    "    #temp = float(input(\"Enter temperature:\"))\n",
    "    #original_format= input(\"Enter the temperature format:\")\n",
    "    #new_format= input(\"To which format should we convert the temperature to?\")\n",
    "    \n",
    "    if original_format==\"Fahrenheit\" and new_format== \"Celsius\":\n",
    "        Fahrenheit_Celsius= (temp-32) * 5/9\n",
    "        return Fahrenheit_Celsius \n",
    "    if original_format==\"Fahrenheit\" and new_format== \"Kelvin\":\n",
    "        Fahrenheit_Kelvin = (temp-32)*5/9 + 273.15\n",
    "        return Fahrenheit_Kelvin\n",
    "   \n",
    "    if original_format==\"Celsius\" and new_format==\"Kelvin\":\n",
    "        Celsius_Kelvin = temp +273.15\n",
    "        return Celsius_Kelvin\n",
    "    if original_format==\"Celsius\" and new_format== \"Fahrenheit\":\n",
    "        Celsius_Fahrenheit= (temp*9/5) +32 \n",
    "        return Celsius_Fahrenheit\n",
    "    \n",
    "    if original_format==\"Kelvin\" and new_format== \"Fahrenheit\":\n",
    "        Kelvin_Fahrenheit = (temp-273.15)*9/5+32\n",
    "        return Kelvin_Fahrenheit\n",
    "    \n",
    "    if original_format==\"Kelvin\" and new_format== \"Celsius\":\n",
    "        Kelvin_Celsius = temp -273.15\n",
    "        return Kelvin_Celsius\n",
    "    \n",
    "problem_3 (0.0,\"Celsius\",\"Fahrenheit\")"
   ]
  },
  {
   "cell_type": "code",
   "execution_count": null,
   "id": "4481469a",
   "metadata": {},
   "outputs": [],
   "source": [
    "\n",
    "        "
   ]
  },
  {
   "cell_type": "code",
   "execution_count": 2,
   "id": "e2ce7b24",
   "metadata": {},
   "outputs": [
    {
     "data": {
      "text/plain": [
       "'1P:1 /25C : 0 /10C: 0 /5C: 0 /1C: 0'"
      ]
     },
     "execution_count": 2,
     "metadata": {},
     "output_type": "execute_result"
    }
   ],
   "source": [
    "### Problem4 \n",
    "def problem_4 (amount):\n",
    "    \n",
    "    piso= int(amount/100)\n",
    "    bente= int((amount - piso*100)/25)\n",
    "    sampu= int((amount - piso*100- bente*25)/10)\n",
    "    lima = int ((amount-piso*100- bente*25 - sampu*10)/5)\n",
    "    centimo = int(amount-piso*100- bente*25 - sampu*10 - lima*5)\n",
    "    return f\"1P:{piso} /25C : {bente} /10C: {sampu} /5C: {lima} /1C: {centimo}\"\n",
    "problem_4(100)"
   ]
  },
  {
   "cell_type": "code",
   "execution_count": 3,
   "id": "b1c46c0f",
   "metadata": {},
   "outputs": [
    {
     "data": {
      "text/plain": [
       "'tEST mE'"
      ]
     },
     "execution_count": 3,
     "metadata": {},
     "output_type": "execute_result"
    }
   ],
   "source": [
    "### Problem 5\n",
    "def problem_5 (message):\n",
    "    message = message.swapcase()\n",
    "    return (message)\n",
    "problem_5 (\"Test Me\")"
   ]
  },
  {
   "cell_type": "code",
   "execution_count": null,
   "id": "ca9293fb",
   "metadata": {},
   "outputs": [],
   "source": []
  }
 ],
 "metadata": {
  "kernelspec": {
   "display_name": "Python 3",
   "language": "python",
   "name": "python3"
  },
  "language_info": {
   "codemirror_mode": {
    "name": "ipython",
    "version": 3
   },
   "file_extension": ".py",
   "mimetype": "text/x-python",
   "name": "python",
   "nbconvert_exporter": "python",
   "pygments_lexer": "ipython3",
   "version": "3.8.8"
  }
 },
 "nbformat": 4,
 "nbformat_minor": 5
}
