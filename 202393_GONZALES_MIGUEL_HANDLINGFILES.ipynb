{
 "cells": [
  {
   "cell_type": "code",
   "execution_count": 2,
   "id": "717a968a",
   "metadata": {},
   "outputs": [],
   "source": [
    "# NON-INTERACTIVE CODE CELL. YOU MAY RUN THIS CELL, BUT DO NOT EDIT IT.\n",
    "# FOR DEMONSTRATION PURPOSES ONLY. DO NOT EDIT.\n",
    "\n",
    "products = {\n",
    "    \"americano\":{\"name\":\"Americano\",\"price\":150.00},\n",
    "    \"brewedcoffee\":{\"name\":\"Brewed Coffee\",\"price\":110.00},\n",
    "    \"cappuccino\":{\"name\":\"Cappuccino\",\"price\":170.00},\n",
    "    \"dalgona\":{\"name\":\"Dalgona\",\"price\":170.00},\n",
    "    \"espresso\":{\"name\":\"Espresso\",\"price\":140.00},\n",
    "    \"frappuccino\":{\"name\":\"Frappuccino\",\"price\":170.00},\n",
    "}"
   ]
  },
  {
   "cell_type": "code",
   "execution_count": 3,
   "id": "a3318463",
   "metadata": {},
   "outputs": [
    {
     "data": {
      "text/plain": [
       "{'name': 'Americano', 'price': 150.0}"
      ]
     },
     "execution_count": 3,
     "metadata": {},
     "output_type": "execute_result"
    }
   ],
   "source": [
    "#Problem 1: Product Information Lookup \n",
    "def get_product(code):\n",
    "    if code in products:\n",
    "        return products [code]\n",
    "    else:\n",
    "        return \"Invalid Input\"\n",
    "\n",
    "get_product(\"americano\")\n"
   ]
  },
  {
   "cell_type": "code",
   "execution_count": 4,
   "id": "19c88cdb",
   "metadata": {},
   "outputs": [
    {
     "data": {
      "text/plain": [
       "170.0"
      ]
     },
     "execution_count": 4,
     "metadata": {},
     "output_type": "execute_result"
    }
   ],
   "source": [
    "#Problem 2: Product Property Lookup \n",
    "def get_property (code,property):\n",
    "    if code in products and property in products [code]:\n",
    "        return products [code][property]\n",
    "    else:\n",
    "        return \"Inavalid Input\"\n",
    "    \n",
    "get_property(\"frappuccino\",\"price\")\n",
    "    \n",
    "    "
   ]
  },
  {
   "cell_type": "code",
   "execution_count": 8,
   "id": "3c8dfbac",
   "metadata": {},
   "outputs": [
    {
     "name": "stdout",
     "output_type": "stream",
     "text": [
      "{product_code},{quantity}sjn\n",
      "{product_code},{quantity}envi\n",
      "{product_code},{quantity}evf\n",
      "{product_code},{quantity}efv\n",
      "{product_code},{quantity}/\n"
     ]
    }
   ],
   "source": [
    "#Problem 3:The Point-of-Sale Terminal \n",
    "def main():\n",
    "    f=open(\"receipt.txt\",\"w\")\n",
    "        \n",
    "    while True:\n",
    "        code = input(\"{product_code},{quantity}\")\n",
    "        if code == \"/\":\n",
    "            break\n",
    "        elif code.split(\",\")[0] in products:\n",
    "            get_product(code.split(\",\")[0]).setdefault(\"amount\", 0)\n",
    "            get_product(code.split(\",\")[0])[\"amount\"] += int(code.split(\",\")[1])\n",
    "        else:\n",
    "            f.write(\"invalid input please try again\")\n",
    "    total = 0\n",
    "    f.write(\"==\")\n",
    "    f.write(\"CODE\\t\\t\\tNAME\\t\\t\\tQUANTITY\\t\\t\\tSUBTOTAL\")\n",
    "    for coffees in products:\n",
    "        get_product(coffees).setdefault(\"amount\", 0)\n",
    "    for coffees in products:\n",
    "        if get_product(coffees)[\"amount\"] != 0:\n",
    "            f.write(coffees + \" \\t\\t\"+ get_property(coffees, \"name\") + \" \\t\\t\" + str(get_property(coffees, \"amount\")) + \"\\t\\t\\t\\t\" +  str(get_property(coffees, \"price\") * get_property(coffees, \"amount\")))\n",
    "            total += get_property(coffees, \"amount\") * get_property(coffees, \"price\")\n",
    "    f.write(\"\\nTotal:\\t\\t\\t\\t\\t\\t\\t\\t\\t\\t\" + str(total))\n",
    "    f.write(\"==\")\n",
    "\n",
    "\n",
    "            \n",
    "main()\n",
    "\n",
    "\n",
    "\n",
    "\n"
   ]
  },
  {
   "cell_type": "code",
   "execution_count": 6,
   "id": "3dac5fbf",
   "metadata": {},
   "outputs": [
    {
     "name": "stdout",
     "output_type": "stream",
     "text": [
      "\n",
      "==\n",
      "CODE\t\t\tNAME\t\t\tQUANTITY\t\t\tSUBTOTAL\n",
      "{code}\t\t\t{name}\t\t\t{quantity}\t\t\t{subtotal}\n",
      "\n",
      "Total:\t\t\t\t\t\t\t\t\t\t{total}\n",
      "==\n",
      "\n"
     ]
    }
   ],
   "source": [
    "print('''\n",
    "==\n",
    "CODE\\t\\t\\tNAME\\t\\t\\tQUANTITY\\t\\t\\tSUBTOTAL\n",
    "{code}\\t\\t\\t{name}\\t\\t\\t{quantity}\\t\\t\\t{subtotal}\n",
    "\n",
    "Total:\\t\\t\\t\\t\\t\\t\\t\\t\\t\\t{total}\n",
    "==\n",
    "''')"
   ]
  },
  {
   "cell_type": "code",
   "execution_count": null,
   "id": "9dcef8e0",
   "metadata": {},
   "outputs": [],
   "source": []
  },
  {
   "cell_type": "code",
   "execution_count": 7,
   "id": "a142556e",
   "metadata": {},
   "outputs": [
    {
     "name": "stdout",
     "output_type": "stream",
     "text": [
      "\n",
      "==\n",
      "CODE\t\t\tNAME\t\t\tQUANTITY\t\t\tSUBTOTAL\n",
      "cappuccino\t\tCappuccino\t\t1\t\t\t\t170.0\n",
      "brewedcoffee\t\tBrewed Coffee\t\t5\t\t\t\t550.0\n",
      "\n",
      "Total:\t\t\t\t\t\t\t\t\t\t720.0\n",
      "==\n",
      "\n"
     ]
    }
   ],
   "source": [
    "# NON-INTERACTIVE CODE CELL. YOU MAY RUN THIS CELL, BUT DO NOT EDIT IT.\n",
    "# FOR DEMONSTRATION PURPOSES ONLY. DO NOT EDIT.  \n",
    "\n",
    "# Example:\n",
    "print('''\n",
    "==\n",
    "CODE\\t\\t\\tNAME\\t\\t\\tQUANTITY\\t\\t\\tSUBTOTAL\n",
    "cappuccino\\t\\tCappuccino\\t\\t1\\t\\t\\t\\t170.0\n",
    "brewedcoffee\\t\\tBrewed Coffee\\t\\t5\\t\\t\\t\\t550.0\n",
    "\n",
    "Total:\\t\\t\\t\\t\\t\\t\\t\\t\\t\\t720.0\n",
    "==\n",
    "''')"
   ]
  },
  {
   "cell_type": "code",
   "execution_count": null,
   "id": "59fdf9f2",
   "metadata": {},
   "outputs": [],
   "source": []
  }
 ],
 "metadata": {
  "kernelspec": {
   "display_name": "Python 3",
   "language": "python",
   "name": "python3"
  },
  "language_info": {
   "codemirror_mode": {
    "name": "ipython",
    "version": 3
   },
   "file_extension": ".py",
   "mimetype": "text/x-python",
   "name": "python",
   "nbconvert_exporter": "python",
   "pygments_lexer": "ipython3",
   "version": "3.8.8"
  }
 },
 "nbformat": 4,
 "nbformat_minor": 5
}
