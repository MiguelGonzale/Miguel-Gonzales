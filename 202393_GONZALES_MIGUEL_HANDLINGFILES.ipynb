{
 "cells": [
  {
   "cell_type": "code",
   "execution_count": 11,
   "id": "717a968a",
   "metadata": {},
   "outputs": [],
   "source": [
    "# NON-INTERACTIVE CODE CELL. YOU MAY RUN THIS CELL, BUT DO NOT EDIT IT.\n",
    "# FOR DEMONSTRATION PURPOSES ONLY. DO NOT EDIT.\n",
    "\n",
    "products = {\n",
    "    \"americano\":{\"name\":\"Americano\",\"price\":150.00},\n",
    "    \"brewedcoffee\":{\"name\":\"Brewed Coffee\",\"price\":110.00},\n",
    "    \"cappuccino\":{\"name\":\"Cappuccino\",\"price\":170.00},\n",
    "    \"dalgona\":{\"name\":\"Dalgona\",\"price\":170.00},\n",
    "    \"espresso\":{\"name\":\"Espresso\",\"price\":140.00},\n",
    "    \"frappuccino\":{\"name\":\"Frappuccino\",\"price\":170.00},\n",
    "}"
   ]
  },
  {
   "cell_type": "code",
   "execution_count": 12,
   "id": "a3318463",
   "metadata": {},
   "outputs": [
    {
     "data": {
      "text/plain": [
       "{'name': 'Americano', 'price': 150.0}"
      ]
     },
     "execution_count": 12,
     "metadata": {},
     "output_type": "execute_result"
    }
   ],
   "source": [
    "#Problem 1: Product Information Lookup \n",
    "def get_product(code):\n",
    "    if code in products:\n",
    "        return products [code]\n",
    "    else:\n",
    "        return \"Invalid Input\"\n",
    "\n",
    "get_product(\"americano\")\n"
   ]
  },
  {
   "cell_type": "code",
   "execution_count": 13,
   "id": "19c88cdb",
   "metadata": {},
   "outputs": [
    {
     "data": {
      "text/plain": [
       "170.0"
      ]
     },
     "execution_count": 13,
     "metadata": {},
     "output_type": "execute_result"
    }
   ],
   "source": [
    "#Problem 2: Product Property Lookup \n",
    "def get_property (code,property):\n",
    "    if code in products and property in products [code]:\n",
    "        return products [code][property]\n",
    "    else:\n",
    "        return \"Inavalid Input\"\n",
    "    \n",
    "get_property(\"frappuccino\",\"price\")\n",
    "    \n",
    "    "
   ]
  },
  {
   "cell_type": "code",
   "execution_count": 37,
   "id": "3c8dfbac",
   "metadata": {},
   "outputs": [
    {
     "name": "stdout",
     "output_type": "stream",
     "text": [
      "product code:americano\n",
      "quantity:4\n",
      "product code:/\n"
     ]
    },
    {
     "ename": "TypeError",
     "evalue": "list indices must be integers or slices, not str",
     "output_type": "error",
     "traceback": [
      "\u001b[1;31m---------------------------------------------------------------------------\u001b[0m",
      "\u001b[1;31mTypeError\u001b[0m                                 Traceback (most recent call last)",
      "\u001b[1;32m<ipython-input-37-367f72588ec1>\u001b[0m in \u001b[0;36m<module>\u001b[1;34m\u001b[0m\n\u001b[0;32m     46\u001b[0m \u001b[1;33m\u001b[0m\u001b[0m\n\u001b[0;32m     47\u001b[0m \u001b[1;33m\u001b[0m\u001b[0m\n\u001b[1;32m---> 48\u001b[1;33m \u001b[0mmain\u001b[0m\u001b[1;33m(\u001b[0m\u001b[1;33m)\u001b[0m\u001b[1;33m\u001b[0m\u001b[1;33m\u001b[0m\u001b[0m\n\u001b[0m",
      "\u001b[1;32m<ipython-input-37-367f72588ec1>\u001b[0m in \u001b[0;36mmain\u001b[1;34m()\u001b[0m\n\u001b[0;32m     34\u001b[0m         \u001b[1;32mfor\u001b[0m \u001b[0mj\u001b[0m \u001b[1;32min\u001b[0m \u001b[0mquantity_list\u001b[0m\u001b[1;33m:\u001b[0m\u001b[1;33m\u001b[0m\u001b[1;33m\u001b[0m\u001b[0m\n\u001b[0;32m     35\u001b[0m \u001b[1;33m\u001b[0m\u001b[0m\n\u001b[1;32m---> 36\u001b[1;33m             \u001b[0mitems\u001b[0m\u001b[1;33m.\u001b[0m\u001b[0msetdefault\u001b[0m\u001b[1;33m(\u001b[0m\u001b[0mcode_list\u001b[0m\u001b[1;33m[\u001b[0m\u001b[0melement\u001b[0m\u001b[1;33m]\u001b[0m\u001b[1;33m,\u001b[0m\u001b[0mquantity_list\u001b[0m\u001b[1;33m[\u001b[0m\u001b[0mj\u001b[0m\u001b[1;33m]\u001b[0m\u001b[1;33m)\u001b[0m\u001b[1;33m\u001b[0m\u001b[1;33m\u001b[0m\u001b[0m\n\u001b[0m\u001b[0;32m     37\u001b[0m \u001b[1;33m\u001b[0m\u001b[0m\n\u001b[0;32m     38\u001b[0m \u001b[1;33m\u001b[0m\u001b[0m\n",
      "\u001b[1;31mTypeError\u001b[0m: list indices must be integers or slices, not str"
     ]
    }
   ],
   "source": [
    "# Problem 3:The Point-of-Sale Terminal \n",
    "def main():\n",
    "    quantity = 0\n",
    "    quantity_list = []\n",
    "    code_list = []\n",
    "    items = {}\n",
    "\n",
    "\n",
    "#     while True:\n",
    "#         code = input(\"product code:\")\n",
    "#         quantity = input(\"quantity:\")\n",
    "#         if code ==\"/\":\n",
    "#             break\n",
    "#         elif code not in products and code != \"/\":\n",
    "#             print (\"invalid input please try again\")\n",
    "            \n",
    "    while True:\n",
    "        code = input(\"product code:\")\n",
    "        code_list.append(code)\n",
    "        while code not in products and code != \"/\":\n",
    "            print (\"invalid input please try again\")\n",
    "            code = input(\"product code:\")\n",
    "            continue\n",
    "            \n",
    "        if code ==\"/\":\n",
    "            break    \n",
    "        counter = int(input(\"quantity:\"))\n",
    "        quantity+=counter\n",
    "        quantity_list.append(quantity)\n",
    "        if code ==\"/\":\n",
    "            break\n",
    "    \n",
    "    for element in range len(code_list):\n",
    "        for j in quantity_list:\n",
    "        \n",
    "            items.setdefault(code_list[element],quantity_list[j])\n",
    "    \n",
    "\n",
    "            \n",
    "    print(code_list)\n",
    "    print(quantity)\n",
    "    print(quantity_list)\n",
    "    print(items)\n",
    "    \n",
    "        \n",
    "        \n",
    "        \n",
    "main()   "
   ]
  },
  {
   "cell_type": "code",
   "execution_count": 18,
   "id": "3dac5fbf",
   "metadata": {},
   "outputs": [
    {
     "name": "stdout",
     "output_type": "stream",
     "text": [
      "\n",
      "==\n",
      "CODE\t\t\tNAME\t\t\tQUANTITY\t\t\tSUBTOTAL\n",
      "{code}\t\t\t{name}\t\t\t{quantity}\t\t\t{subtotal}\n",
      "\n",
      "Total:\t\t\t\t\t\t\t\t\t\t{total}\n",
      "==\n",
      "\n"
     ]
    }
   ],
   "source": [
    "print('''\n",
    "==\n",
    "CODE\\t\\t\\tNAME\\t\\t\\tQUANTITY\\t\\t\\tSUBTOTAL\n",
    "{code}\\t\\t\\t{name}\\t\\t\\t{quantity}\\t\\t\\t{subtotal}\n",
    "\n",
    "Total:\\t\\t\\t\\t\\t\\t\\t\\t\\t\\t{total}\n",
    "==\n",
    "''')"
   ]
  },
  {
   "cell_type": "code",
   "execution_count": 19,
   "id": "9dcef8e0",
   "metadata": {},
   "outputs": [
    {
     "name": "stdout",
     "output_type": "stream",
     "text": [
      "{'americano': {'name': 'Americano', 'price': 150.0}, 'brewedcoffee': {'name': 'Brewed Coffee', 'price': 110.0}, 'cappuccino': {'name': 'Cappuccino', 'price': 170.0}, 'dalgona': {'name': 'Dalgona', 'price': 170.0}, 'espresso': {'name': 'Espresso', 'price': 140.0}, 'frappuccino': {'name': 'Frappuccino', 'price': 170.0}}\n"
     ]
    }
   ],
   "source": [
    "print(products)"
   ]
  },
  {
   "cell_type": "code",
   "execution_count": 20,
   "id": "a142556e",
   "metadata": {},
   "outputs": [
    {
     "name": "stdout",
     "output_type": "stream",
     "text": [
      "\n",
      "==\n",
      "CODE\t\t\tNAME\t\t\tQUANTITY\t\t\tSUBTOTAL\n",
      "cappuccino\t\tCappuccino\t\t1\t\t\t\t170.0\n",
      "brewedcoffee\t\tBrewed Coffee\t\t5\t\t\t\t550.0\n",
      "\n",
      "Total:\t\t\t\t\t\t\t\t\t\t720.0\n",
      "==\n",
      "\n"
     ]
    }
   ],
   "source": [
    "# NON-INTERACTIVE CODE CELL. YOU MAY RUN THIS CELL, BUT DO NOT EDIT IT.\n",
    "# FOR DEMONSTRATION PURPOSES ONLY. DO NOT EDIT.  \n",
    "\n",
    "# Example:\n",
    "print('''\n",
    "==\n",
    "CODE\\t\\t\\tNAME\\t\\t\\tQUANTITY\\t\\t\\tSUBTOTAL\n",
    "cappuccino\\t\\tCappuccino\\t\\t1\\t\\t\\t\\t170.0\n",
    "brewedcoffee\\t\\tBrewed Coffee\\t\\t5\\t\\t\\t\\t550.0\n",
    "\n",
    "Total:\\t\\t\\t\\t\\t\\t\\t\\t\\t\\t720.0\n",
    "==\n",
    "''')"
   ]
  },
  {
   "cell_type": "code",
   "execution_count": null,
   "id": "59fdf9f2",
   "metadata": {},
   "outputs": [],
   "source": []
  }
 ],
 "metadata": {
  "kernelspec": {
   "display_name": "Python 3",
   "language": "python",
   "name": "python3"
  },
  "language_info": {
   "codemirror_mode": {
    "name": "ipython",
    "version": 3
   },
   "file_extension": ".py",
   "mimetype": "text/x-python",
   "name": "python",
   "nbconvert_exporter": "python",
   "pygments_lexer": "ipython3",
   "version": "3.8.8"
  }
 },
 "nbformat": 4,
 "nbformat_minor": 5
}
