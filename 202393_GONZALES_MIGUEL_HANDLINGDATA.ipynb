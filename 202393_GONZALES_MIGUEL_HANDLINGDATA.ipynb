{
 "cells": [
  {
   "cell_type": "code",
   "execution_count": 69,
   "id": "681efe3e",
   "metadata": {},
   "outputs": [],
   "source": [
    "\n",
    "    social_graph ={\n",
    "        \"@bongolpoc\":{\"first_name\":\"Joselito\",\n",
    "                      \"last_name\":\"Olpoc\",\n",
    "                      \"following\":[\n",
    "                      ]\n",
    "        },\n",
    "        \"@joaquin\":  {\"first_name\":\"Joaquin\",\n",
    "                      \"last_name\":\"Gonzales\",\n",
    "                      \"following\":[\n",
    "                          \"@chums\",\"@jobenilagan\"\n",
    "                      ]\n",
    "        },\n",
    "        \"@chums\" : {\"first_name\":\"Matthew\",\n",
    "                    \"last_name\":\"Uy\",\n",
    "                    \"following\":[\n",
    "                        \"@bongolpoc\",\"@miketan\",\"@rudyang\",\"@joeilagan\"\n",
    "                    ]\n",
    "        },\n",
    "        \"@jobenilagan\":{\"first_name\":\"Joben\",\n",
    "                       \"last_name\":\"Ilagan\",\n",
    "                       \"following\":[\n",
    "                        \"@eeebeee\",\"@joeilagan\",\"@chums\",\"@joaquin\"\n",
    "                       ]\n",
    "        },\n",
    "        \"@joeilagan\":{\"first_name\":\"Joe\",\n",
    "                      \"last_name\":\"Ilagan\",\n",
    "                      \"following\":[\n",
    "                        \"@eeebeee\",\"@jobenilagan\",\"@chums\"\n",
    "                      ]\n",
    "        },\n",
    "        \"@eeebeee\":  {\"first_name\":\"Elizabeth\",\n",
    "                      \"last_name\":\"Ilagan\",\n",
    "                      \"following\":[\n",
    "                        \"@jobenilagan\",\"@joeilagan\"\n",
    "                      ]\n",
    "        },\n",
    "}"
   ]
  },
  {
   "cell_type": "code",
   "execution_count": 90,
   "id": "3a7a94c9",
   "metadata": {},
   "outputs": [
    {
     "data": {
      "text/plain": [
       "'follower'"
      ]
     },
     "execution_count": 90,
     "metadata": {},
     "output_type": "execute_result"
    }
   ],
   "source": [
    "### Problem 1: Social Media Relationships \n",
    "def relationship_status(from_member,to_member,social_graph):\n",
    "\n",
    "    \n",
    "    if to_member in social_graph[from_member][\"following\"] and from_member in social_graph[to_member][\"following\"]:\n",
    "        return \"friends\"\n",
    "    elif to_member in social_graph[from_member][\"following\"]:\n",
    "        return \"follower\"\n",
    "    elif from_member in social_graph[to_member][\"following\"]:\n",
    "        return \"followed by\"\n",
    "    else:\n",
    "        return None\n",
    "        \n",
    "\n",
    "    \n",
    "    \n",
    "    \n",
    "relationship_status(\"@jobenilagan\",\"@chums\",social_graph)  \n",
    "\n",
    "\n"
   ]
  },
  {
   "cell_type": "code",
   "execution_count": null,
   "id": "b4487168",
   "metadata": {},
   "outputs": [],
   "source": []
  },
  {
   "cell_type": "code",
   "execution_count": 21,
   "id": "69c01631",
   "metadata": {},
   "outputs": [
    {
     "name": "stdout",
     "output_type": "stream",
     "text": [
      "{'@bongolpoc': {'first_name': 'Joselito', 'last_name': 'Olpoc', 'following': []}, '@joaquin': {'first_name': 'Joaquin', 'last_name': 'Gonzales', 'following': ['@chums', '@jobenilagan']}, '@chums': {'first_name': 'Matthew', 'last_name': 'Uy', 'following': ['@bongolpoc', '@miketan', '@rudyang', '@joeilagan']}, '@jobenilagan': {'first_name': 'Joben', 'last_name': 'Ilagan', 'following': ['@eeebeee', '@joeilagan', '@chums', '@joaquin']}, '@joeilagan': {'first_name': 'Joe', 'last_name': 'Ilagan', 'following': ['@eeebeee', '@jobenilagan', '@chums']}, '@eeebeee': {'first_name': 'Elizabeth', 'last_name': 'Ilagan', 'following': ['@jobenilagan', '@joeilagan']}}\n"
     ]
    }
   ],
   "source": [
    "print(social_graph)"
   ]
  },
  {
   "cell_type": "code",
   "execution_count": 83,
   "id": "e99e2974",
   "metadata": {},
   "outputs": [],
   "source": [
    "board1 = [\n",
    "['X','X','O'],\n",
    "['O','X','O'],\n",
    "['O','','X'],\n",
    "]\n",
    "\n",
    "board2 = [\n",
    "['X','X','O'],\n",
    "['O','X','O'],\n",
    "['','O','X'],\n",
    "]\n",
    "\n",
    "board3 = [\n",
    "['O','X','O'],\n",
    "['','O','X'],\n",
    "['X','X','O'],\n",
    "]\n",
    "\n",
    "board4 = [\n",
    "['X','X','X'],\n",
    "['O','X','O'],\n",
    "['O','','O'],\n",
    "]\n",
    "\n",
    "board5 = [\n",
    "['X','X','O'],\n",
    "['O','X','O'],\n",
    "['X','','O'],\n",
    "]\n",
    "\n",
    "board6 = [\n",
    "['X','X','O'],\n",
    "['O','X','O'],\n",
    "['X','',''],\n",
    "]"
   ]
  },
  {
   "cell_type": "code",
   "execution_count": 89,
   "id": "b58e52b1",
   "metadata": {},
   "outputs": [
    {
     "data": {
      "text/plain": [
       "'X'"
      ]
     },
     "execution_count": 89,
     "metadata": {},
     "output_type": "execute_result"
    }
   ],
   "source": [
    "### Problem 2: Tic Tac Toe \n",
    "\n",
    "\n",
    "    \n",
    "    \n",
    "def tic_tac_toe(board):\n",
    "    winner =\"\"\n",
    "    for row in board:\n",
    "        if len(set(row))==1:\n",
    "            winner = row[0]\n",
    "            break \n",
    "            \n",
    "    for i in range(len(board)):\n",
    "        temp_col =[]\n",
    "        for j in range (len(board)):\n",
    "            temp_col.append(board[j][i])\n",
    "        if len(set(temp_col))==1:\n",
    "            winner = temp_col[0]\n",
    "            break\n",
    "    if len (board)%2 !=0:\n",
    "        temp_diag1=[]\n",
    "        for i in range (len(board)):\n",
    "            temp_diag1.append(board[i][i])\n",
    "        if len(set(temp_diag1))==1:\n",
    "            winner = temp_diag1[0]\n",
    "            \n",
    "        \n",
    "        temp_diag2=[]\n",
    "        for i in range (len(board)):\n",
    "            temp_diag2.append(board[len(board)-i-1][i])\n",
    "        if len(set(temp_diag2))==1:\n",
    "            winner = temp_diag2[0]\n",
    "            \n",
    "            \n",
    "    if winner ==\"\":\n",
    "        winner = None\n",
    "    \n",
    "        \n",
    "    return winner\n",
    "\n",
    "\n",
    "tic_tac_toe(board1)\n",
    "    "
   ]
  },
  {
   "cell_type": "code",
   "execution_count": 73,
   "id": "2a595957",
   "metadata": {},
   "outputs": [],
   "source": [
    "legs = {\n",
    "     (\"upd\",\"admu\"):{\n",
    "         \"travel_time_mins\":10\n",
    "     },\n",
    "     (\"admu\",\"dlsu\"):{\n",
    "         \"travel_time_mins\":35\n",
    "     },\n",
    "     (\"dlsu\",\"upd\"):{\n",
    "         \"travel_time_mins\":55\n",
    "     }\n",
    "}\n"
   ]
  },
  {
   "cell_type": "code",
   "execution_count": 92,
   "id": "9c8f3b0a",
   "metadata": {},
   "outputs": [
    {
     "data": {
      "text/plain": [
       "90"
      ]
     },
     "execution_count": 92,
     "metadata": {},
     "output_type": "execute_result"
    }
   ],
   "source": [
    "### Problem 3: Routing\n",
    "\n",
    "\n",
    "\n",
    "def eta(legs, source, destination):\n",
    "    total_travel_time = 0\n",
    "    if (source,destination) in legs:\n",
    "        return legs[source, destination][\"travel_time_mins\"]\n",
    "    else:\n",
    "        while True:\n",
    "            for places in legs:\n",
    "                if source == places[0]:\n",
    "                    total_travel_time += legs[(source,places[1])][\"travel_time_mins\"]\n",
    "                    if destination == places[1]:\n",
    "                        return total_travel_time\n",
    "                    else:\n",
    "                        source = places[1]\n",
    "eta(legs,\"admu\",\"upd\")\n",
    "    \n",
    "    "
   ]
  },
  {
   "cell_type": "code",
   "execution_count": null,
   "id": "641ab30d",
   "metadata": {},
   "outputs": [],
   "source": []
  }
 ],
 "metadata": {
  "kernelspec": {
   "display_name": "Python 3",
   "language": "python",
   "name": "python3"
  },
  "language_info": {
   "codemirror_mode": {
    "name": "ipython",
    "version": 3
   },
   "file_extension": ".py",
   "mimetype": "text/x-python",
   "name": "python",
   "nbconvert_exporter": "python",
   "pygments_lexer": "ipython3",
   "version": "3.8.8"
  }
 },
 "nbformat": 4,
 "nbformat_minor": 5
}
